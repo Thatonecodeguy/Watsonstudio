{
 "cells": [
  {
   "cell_type": "markdown",
   "metadata": {
    "tags": []
   },
   "source": [
    "# My Jupyter Notebook on IBM Watson Studio "
   ]
  },
  {
   "cell_type": "markdown",
   "metadata": {
    "tags": []
   },
   "source": [
    "**Johnathon June**<br>\n",
    "My desired occupation is to be a Data Scientist or Programmer in medical or retail."
   ]
  },
  {
   "cell_type": "markdown",
   "metadata": {},
   "source": [
    "*I am interested in data science because I would like to be able build models of data within medical or retail. It becomes a passion when you can think of ways to find ways to save lives.*"
   ]
  },
  {
   "cell_type": "markdown",
   "metadata": {},
   "source": [
    "### My code is supposed to give date and time "
   ]
  },
  {
   "cell_type": "code",
   "execution_count": 17,
   "metadata": {},
   "outputs": [
    {
     "name": "stdout",
     "output_type": "stream",
     "text": [
      "Local current time : Mon Mar 13 04:08:50 2023\n"
     ]
    }
   ],
   "source": [
    "#!/usr/bin/python\n",
    "import time;\n",
    "\n",
    "localtime = time.asctime(time.localtime(time.time()))\n",
    "print (\"Local current time :\", localtime)"
   ]
  },
  {
   "cell_type": "markdown",
   "metadata": {},
   "source": [
    "1. apple\n",
    "1. orange\n",
    "1. grape \n",
    "1. bannana \n",
    "***\n",
    "* apple\n",
    "* orange\n",
    "* grape\n",
    "* bannana\n",
    "***\n",
    "|Test| completed |fun|\n",
    "|---:|----------:|--:|\n",
    "|Last| absolutely|yes|"
   ]
  }
 ],
 "metadata": {
  "kernelspec": {
   "display_name": "Python",
   "language": "python",
   "name": "conda-env-python-py"
  },
  "language_info": {
   "codemirror_mode": {
    "name": "ipython",
    "version": 3
   },
   "file_extension": ".py",
   "mimetype": "text/x-python",
   "name": "python",
   "nbconvert_exporter": "python",
   "pygments_lexer": "ipython3",
   "version": "3.7.12"
  }
 },
 "nbformat": 4,
 "nbformat_minor": 4
}
